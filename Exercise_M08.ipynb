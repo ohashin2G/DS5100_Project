{
  "nbformat": 4,
  "nbformat_minor": 0,
  "metadata": {
    "colab": {
      "provenance": []
    },
    "kernelspec": {
      "name": "python3",
      "display_name": "Python 3"
    },
    "language_info": {
      "name": "python"
    }
  },
  "cells": [
    {
      "cell_type": "markdown",
      "source": [
        "1"
      ],
      "metadata": {
        "id": "zroTYDnHbTWS"
      }
    },
    {
      "cell_type": "code",
      "execution_count": 1,
      "metadata": {
        "id": "gor29sjwbHps",
        "colab": {
          "base_uri": "https://localhost:8080/"
        },
        "outputId": "a9d6785f-09f0-4bfe-ae8b-d1f03d07b112"
      },
      "outputs": [
        {
          "output_type": "stream",
          "name": "stdout",
          "text": [
            "Hello World\n"
          ]
        }
      ],
      "source": [
        "print('Hello World')"
      ]
    },
    {
      "cell_type": "markdown",
      "source": [
        "2"
      ],
      "metadata": {
        "id": "SdbRt6o-bUCq"
      }
    },
    {
      "cell_type": "code",
      "source": [],
      "metadata": {
        "id": "qoc66aJtbSOL"
      },
      "execution_count": null,
      "outputs": []
    },
    {
      "cell_type": "markdown",
      "source": [
        "3"
      ],
      "metadata": {
        "id": "L0WjND4rbV46"
      }
    },
    {
      "cell_type": "code",
      "source": [],
      "metadata": {
        "id": "EkOgcTxIbSJC"
      },
      "execution_count": null,
      "outputs": []
    },
    {
      "cell_type": "markdown",
      "source": [
        "4"
      ],
      "metadata": {
        "id": "tcRnd3lbbWks"
      }
    },
    {
      "cell_type": "code",
      "source": [],
      "metadata": {
        "id": "yWDED9lzbSGH"
      },
      "execution_count": null,
      "outputs": []
    },
    {
      "cell_type": "markdown",
      "source": [
        "5"
      ],
      "metadata": {
        "id": "typd4VpIbXQQ"
      }
    },
    {
      "cell_type": "code",
      "source": [],
      "metadata": {
        "id": "TO85rWFZbSDZ"
      },
      "execution_count": null,
      "outputs": []
    },
    {
      "cell_type": "markdown",
      "source": [
        "6"
      ],
      "metadata": {
        "id": "r4kleOOobX1Z"
      }
    },
    {
      "cell_type": "code",
      "source": [],
      "metadata": {
        "id": "63Wh0KJQbR_0"
      },
      "execution_count": null,
      "outputs": []
    },
    {
      "cell_type": "markdown",
      "source": [
        "7"
      ],
      "metadata": {
        "id": "1saPPKxCbZEX"
      }
    },
    {
      "cell_type": "code",
      "source": [],
      "metadata": {
        "id": "nHutN98ubR8w"
      },
      "execution_count": null,
      "outputs": []
    },
    {
      "cell_type": "markdown",
      "source": [
        "8"
      ],
      "metadata": {
        "id": "MilklgFgbgZ1"
      }
    },
    {
      "cell_type": "code",
      "source": [],
      "metadata": {
        "id": "Th9IUi_TbR5N"
      },
      "execution_count": null,
      "outputs": []
    },
    {
      "cell_type": "markdown",
      "source": [
        "9"
      ],
      "metadata": {
        "id": "2R7v55xxbiKW"
      }
    },
    {
      "cell_type": "code",
      "source": [],
      "metadata": {
        "id": "U2ZnSqJ3bR2A"
      },
      "execution_count": null,
      "outputs": []
    },
    {
      "cell_type": "markdown",
      "source": [
        "10"
      ],
      "metadata": {
        "id": "fqPdQ6hDbi2M"
      }
    },
    {
      "cell_type": "code",
      "source": [],
      "metadata": {
        "id": "F7RsRl7cbRy4"
      },
      "execution_count": null,
      "outputs": []
    },
    {
      "cell_type": "markdown",
      "source": [
        "11"
      ],
      "metadata": {
        "id": "VgRXbrbFbjVm"
      }
    },
    {
      "cell_type": "code",
      "source": [],
      "metadata": {
        "id": "T273IC9kbRvd"
      },
      "execution_count": null,
      "outputs": []
    },
    {
      "cell_type": "markdown",
      "source": [
        "12"
      ],
      "metadata": {
        "id": "yGhBfJJWbj87"
      }
    },
    {
      "cell_type": "code",
      "source": [],
      "metadata": {
        "id": "LuO5v9KpbRr7"
      },
      "execution_count": null,
      "outputs": []
    },
    {
      "cell_type": "markdown",
      "source": [
        "13"
      ],
      "metadata": {
        "id": "DpjiLSVWbkor"
      }
    },
    {
      "cell_type": "code",
      "source": [],
      "metadata": {
        "id": "saILMuJ9bRoq"
      },
      "execution_count": null,
      "outputs": []
    },
    {
      "cell_type": "markdown",
      "source": [
        "14"
      ],
      "metadata": {
        "id": "ANIK1oOdbk98"
      }
    },
    {
      "cell_type": "code",
      "source": [],
      "metadata": {
        "id": "M9d7RvT9bRkn"
      },
      "execution_count": null,
      "outputs": []
    },
    {
      "cell_type": "markdown",
      "source": [
        "15"
      ],
      "metadata": {
        "id": "xCNGp2BoblYF"
      }
    },
    {
      "cell_type": "code",
      "source": [],
      "metadata": {
        "id": "ZQkVOGoXbRgW"
      },
      "execution_count": null,
      "outputs": []
    },
    {
      "cell_type": "markdown",
      "source": [
        "16"
      ],
      "metadata": {
        "id": "bSwgOumYbmHO"
      }
    },
    {
      "cell_type": "code",
      "source": [],
      "metadata": {
        "id": "yTdRQ3VebRT8"
      },
      "execution_count": null,
      "outputs": []
    }
  ]
}